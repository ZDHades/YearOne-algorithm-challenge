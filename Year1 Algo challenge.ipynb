{
 "cells": [
  {
   "cell_type": "code",
   "execution_count": 1,
   "metadata": {},
   "outputs": [],
   "source": [
    "prereqs_courses1 = [\n",
    "    [\"Data Structures\", \"Algorithms\"],\n",
    "    [\"Foundations of Computer Science\", \"Operating Systems\"],\n",
    "    [\"Computer Networks\", \"Computer Architecture\"],\n",
    "    [\"Algorithms\", \"Foundations of Computer Science\"],\n",
    "    [\"Computer Architecture\", \"Data Structures\"],\n",
    "    [\"Software Design\", \"Computer Networks\"]\n",
    "]"
   ]
  },
  {
   "cell_type": "code",
   "execution_count": 114,
   "metadata": {},
   "outputs": [
    {
     "name": "stdout",
     "output_type": "stream",
     "text": [
      "The student is 50% done with their course when they have completed their Data Structures class\n",
      "Their course list in order is ['Software Design', 'Computer Networks', 'Computer Architecture', 'Data Structures', 'Algorithms', 'Foundations of Computer Science', 'Operating Systems']\n"
     ]
    }
   ],
   "source": [
    "class Solution:\n",
    "    schedule = []\n",
    "    pre_reqs = []\n",
    "    courses = []\n",
    "    current_index = 0\n",
    "    middle_index = 0\n",
    "    classes = 0\n",
    "            \n",
    "    @classmethod\n",
    "    def find_first_set_of_classes(self, calendar):\n",
    "        for _ in calendar:\n",
    "            self.pre_reqs.append(_[0])\n",
    "            self.courses.append(_[1])\n",
    "        self.classes = len(calendar) +1\n",
    "        if self.classes%2 == 0:\n",
    "            self.middle_index = self.classes//2 - 1\n",
    "        if self.classes%2 != 0: \n",
    "            self.middle_index = self.classes//2 \n",
    "        for _ in self.pre_reqs:\n",
    "            if _ not in courses:\n",
    "                self.schedule.append(_) \n",
    "                self.schedule.append(self.courses[self.pre_reqs.index(_)])\n",
    "                \n",
    "    @classmethod\n",
    "    def find_iterations(self):\n",
    "        for _ in (range(self.classes -1)):\n",
    "            self.find_others()\n",
    "        return self.schedule[self.middle_index]\n",
    "    \n",
    "    @classmethod\n",
    "    def find_others(self):\n",
    "        current_class = self.schedule[-1]\n",
    "        for _ in self.pre_reqs:\n",
    "            if _ == current_class:\n",
    "                self.schedule.append(self.courses[self.pre_reqs.index(_)])\n",
    "                \n",
    "    @classmethod\n",
    "    def solution(self, calendar):\n",
    "        self.find_first_set_of_classes(calendar)\n",
    "        answer = self.find_iterations()\n",
    "        return answer\n",
    "        \n",
    "\n",
    "print(f'The student is 50% done with their course when they have completed their {Solution.solution(prereqs_courses1)} class')\n",
    "print(f'Their course list in order is {Solution.schedule}')"
   ]
  }
 ],
 "metadata": {
  "kernelspec": {
   "display_name": "Python 3",
   "language": "python",
   "name": "python3"
  },
  "language_info": {
   "codemirror_mode": {
    "name": "ipython",
    "version": 3
   },
   "file_extension": ".py",
   "mimetype": "text/x-python",
   "name": "python",
   "nbconvert_exporter": "python",
   "pygments_lexer": "ipython3",
   "version": "3.8.3"
  }
 },
 "nbformat": 4,
 "nbformat_minor": 4
}
